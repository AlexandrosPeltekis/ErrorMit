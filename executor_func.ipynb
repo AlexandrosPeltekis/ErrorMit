{
 "cells": [
  {
   "cell_type": "code",
   "execution_count": 1,
   "metadata": {},
   "outputs": [],
   "source": [
    "from mitiq import zne, benchmarks, MeasurementResult\n",
    "from qiskit import *\n",
    "import networkx as nx\n",
    "from qiskit_aer import AerSimulator\n",
    "from collections import defaultdict\n",
    "from qiskit.circuit import Gate\n",
    "import numpy as np\n",
    "\n"
   ]
  },
  {
   "cell_type": "code",
   "execution_count": 2,
   "metadata": {},
   "outputs": [],
   "source": [
    "def execute(circuit, backend=AerSimulator()):\n",
    "    depth = circuit.depth()\n",
    "    ops_dict = circuit.count_ops()\n",
    "    counts = defaultdict(int)\n",
    "\n",
    "    for inst in circuit.data:\n",
    "        if isinstance(inst.operation, Gate):\n",
    "            counts[len(inst.qubits)] += 1\n",
    "\n",
    "    print('1 and 2 qubit operator counts: ', {k: v for k, v in counts.items()})\n",
    "\n",
    "    print('circuit depth: ', depth)\n",
    "    print('Individual operator counts: ', {k: v for k, v in ops_dict.items()})\n",
    "\n",
    "    circuit.measure_all()\n",
    "    transpiled = transpile(circuit, backend=backend, optimization_level=0)\n",
    "    transpiled_depth = transpiled.depth()\n",
    "    print('Transpiled circuit depth: ', transpiled_depth)\n",
    "\n",
    "\n",
    "    result = backend.run(circuit, shots=10, optimization_level=0).result()\n",
    "    counts = result.get_counts(circuit)\n",
    "    counts = { k.replace(\" \",\"\"):v for k, v in counts.items()}\n",
    "    measurements = MeasurementResult.from_counts(counts)\n",
    "\n",
    "    print(measurements, '\\n')\n",
    "    return 0"
   ]
  },
  {
   "cell_type": "code",
   "execution_count": 3,
   "metadata": {},
   "outputs": [
    {
     "name": "stdout",
     "output_type": "stream",
     "text": [
      "     ┌─────────┐   ┌────┐   ┌───┐     ┌───┐     ┌───┐     ┌───┐     ┌───┐     »\n",
      "q_0: ┤ Ry(π/2) ├───┤ √X ├───┤ I ├──■──┤ Y ├──■──┤ Y ├──■──┤ I ├──■──┤ X ├──■──»\n",
      "     └──┬───┬──┘┌──┴────┴──┐├───┤┌─┴─┐├───┤┌─┴─┐├───┤┌─┴─┐├───┤┌─┴─┐├───┤┌─┴─┐»\n",
      "q_1: ───┤ X ├───┤ Ry(-π/2) ├┤ X ├┤ X ├┤ X ├┤ X ├┤ X ├┤ X ├┤ X ├┤ X ├┤ I ├┤ X ├»\n",
      "        └───┘   └──────────┘└───┘└───┘└───┘└───┘└───┘└───┘└───┘└───┘└───┘└───┘»\n",
      "«     ┌───┐     ┌───┐     ┌───┐     ┌───┐  ┌──────┐ ┌──────────┐\n",
      "«q_0: ┤ I ├──■──┤ Z ├──■──┤ Z ├──■──┤ X ├──┤ √Xdg ├─┤ Ry(-π/2) ├\n",
      "«     ├───┤┌─┴─┐├───┤┌─┴─┐├───┤┌─┴─┐├───┤┌─┴──────┴┐└──┬───┬───┘\n",
      "«q_1: ┤ Z ├┤ X ├┤ X ├┤ X ├┤ X ├┤ X ├┤ Y ├┤ Ry(π/2) ├───┤ X ├────\n",
      "«     └───┘└───┘└───┘└───┘└───┘└───┘└───┘└─────────┘   └───┘    \n",
      "\n",
      "Should sample: [1, 0]\n"
     ]
    }
   ],
   "source": [
    "n_qubits = 2\n",
    "connectivity_graph = nx.complete_graph(n_qubits)\n",
    "\n",
    "\n",
    "def get_circuit(depth, seed):\n",
    "    circuit, correct_bitstring = benchmarks.generate_mirror_circuit(\n",
    "        nlayers=depth,\n",
    "        two_qubit_gate_prob=1.0,\n",
    "        connectivity_graph=connectivity_graph,\n",
    "        two_qubit_gate_name=\"CNOT\",\n",
    "        seed=seed,\n",
    "        return_type=\"qiskit\",\n",
    "    )        \n",
    "    return circuit, correct_bitstring \n",
    "\n",
    "circ, bitstring = get_circuit(4,10)\n",
    "print(circ)\n",
    "print(\"\\nShould sample:\", bitstring)"
   ]
  },
  {
   "cell_type": "code",
   "execution_count": 4,
   "metadata": {},
   "outputs": [
    {
     "data": {
      "text/html": [
       "<pre style=\"word-wrap: normal;white-space: pre;background: #fff0;line-height: 1.1;font-family: &quot;Courier New&quot;,Courier,monospace\">             ┌─────────┐ ░ ┌─┐   \n",
       "   q_0: ──■──┤ Rx(π/2) ├─░─┤M├───\n",
       "        ┌─┴─┐└──┬───┬──┘ ░ └╥┘┌─┐\n",
       "   q_1: ┤ X ├───┤ H ├────░──╫─┤M├\n",
       "        └───┘   └───┘    ░  ║ └╥┘\n",
       "meas: 2/════════════════════╩══╩═\n",
       "                            0  1 </pre>"
      ],
      "text/plain": [
       "             ┌─────────┐ ░ ┌─┐   \n",
       "   q_0: ──■──┤ Rx(π/2) ├─░─┤M├───\n",
       "        ┌─┴─┐└──┬───┬──┘ ░ └╥┘┌─┐\n",
       "   q_1: ┤ X ├───┤ H ├────░──╫─┤M├\n",
       "        └───┘   └───┘    ░  ║ └╥┘\n",
       "meas: 2/════════════════════╩══╩═\n",
       "                            0  1 "
      ]
     },
     "execution_count": 4,
     "metadata": {},
     "output_type": "execute_result"
    }
   ],
   "source": [
    "circ2 = QuantumCircuit(2)\n",
    "circ2.cx(0,1)\n",
    "circ2.h(1)\n",
    "circ2.rx(np.pi/2, 0)\n",
    "circ2.measure_all()\n",
    "circ2.draw()"
   ]
  },
  {
   "cell_type": "code",
   "execution_count": 5,
   "metadata": {},
   "outputs": [
    {
     "name": "stdout",
     "output_type": "stream",
     "text": [
      "[CircuitInstruction(operation=Instruction(name='ry', num_qubits=1, num_clbits=0, params=[1.5707963267948966]), qubits=(Qubit(QuantumRegister(2, 'q'), 0),), clbits=()), CircuitInstruction(operation=Instruction(name='sx', num_qubits=1, num_clbits=0, params=[]), qubits=(Qubit(QuantumRegister(2, 'q'), 0),), clbits=()), CircuitInstruction(operation=Instruction(name='id', num_qubits=1, num_clbits=0, params=[]), qubits=(Qubit(QuantumRegister(2, 'q'), 0),), clbits=()), CircuitInstruction(operation=Instruction(name='x', num_qubits=1, num_clbits=0, params=[]), qubits=(Qubit(QuantumRegister(2, 'q'), 1),), clbits=()), CircuitInstruction(operation=Instruction(name='ry', num_qubits=1, num_clbits=0, params=[-1.5707963267948966]), qubits=(Qubit(QuantumRegister(2, 'q'), 1),), clbits=()), CircuitInstruction(operation=Instruction(name='x', num_qubits=1, num_clbits=0, params=[]), qubits=(Qubit(QuantumRegister(2, 'q'), 1),), clbits=()), CircuitInstruction(operation=Instruction(name='cx', num_qubits=2, num_clbits=0, params=[]), qubits=(Qubit(QuantumRegister(2, 'q'), 0), Qubit(QuantumRegister(2, 'q'), 1)), clbits=()), CircuitInstruction(operation=Instruction(name='y', num_qubits=1, num_clbits=0, params=[]), qubits=(Qubit(QuantumRegister(2, 'q'), 0),), clbits=()), CircuitInstruction(operation=Instruction(name='x', num_qubits=1, num_clbits=0, params=[]), qubits=(Qubit(QuantumRegister(2, 'q'), 1),), clbits=()), CircuitInstruction(operation=Instruction(name='cx', num_qubits=2, num_clbits=0, params=[]), qubits=(Qubit(QuantumRegister(2, 'q'), 0), Qubit(QuantumRegister(2, 'q'), 1)), clbits=()), CircuitInstruction(operation=Instruction(name='y', num_qubits=1, num_clbits=0, params=[]), qubits=(Qubit(QuantumRegister(2, 'q'), 0),), clbits=()), CircuitInstruction(operation=Instruction(name='x', num_qubits=1, num_clbits=0, params=[]), qubits=(Qubit(QuantumRegister(2, 'q'), 1),), clbits=()), CircuitInstruction(operation=Instruction(name='cx', num_qubits=2, num_clbits=0, params=[]), qubits=(Qubit(QuantumRegister(2, 'q'), 0), Qubit(QuantumRegister(2, 'q'), 1)), clbits=()), CircuitInstruction(operation=Instruction(name='id', num_qubits=1, num_clbits=0, params=[]), qubits=(Qubit(QuantumRegister(2, 'q'), 0),), clbits=()), CircuitInstruction(operation=Instruction(name='x', num_qubits=1, num_clbits=0, params=[]), qubits=(Qubit(QuantumRegister(2, 'q'), 1),), clbits=()), CircuitInstruction(operation=Instruction(name='cx', num_qubits=2, num_clbits=0, params=[]), qubits=(Qubit(QuantumRegister(2, 'q'), 0), Qubit(QuantumRegister(2, 'q'), 1)), clbits=()), CircuitInstruction(operation=Instruction(name='x', num_qubits=1, num_clbits=0, params=[]), qubits=(Qubit(QuantumRegister(2, 'q'), 0),), clbits=()), CircuitInstruction(operation=Instruction(name='id', num_qubits=1, num_clbits=0, params=[]), qubits=(Qubit(QuantumRegister(2, 'q'), 1),), clbits=()), CircuitInstruction(operation=Instruction(name='cx', num_qubits=2, num_clbits=0, params=[]), qubits=(Qubit(QuantumRegister(2, 'q'), 0), Qubit(QuantumRegister(2, 'q'), 1)), clbits=()), CircuitInstruction(operation=Instruction(name='id', num_qubits=1, num_clbits=0, params=[]), qubits=(Qubit(QuantumRegister(2, 'q'), 0),), clbits=()), CircuitInstruction(operation=Instruction(name='z', num_qubits=1, num_clbits=0, params=[]), qubits=(Qubit(QuantumRegister(2, 'q'), 1),), clbits=()), CircuitInstruction(operation=Instruction(name='cx', num_qubits=2, num_clbits=0, params=[]), qubits=(Qubit(QuantumRegister(2, 'q'), 0), Qubit(QuantumRegister(2, 'q'), 1)), clbits=()), CircuitInstruction(operation=Instruction(name='z', num_qubits=1, num_clbits=0, params=[]), qubits=(Qubit(QuantumRegister(2, 'q'), 0),), clbits=()), CircuitInstruction(operation=Instruction(name='x', num_qubits=1, num_clbits=0, params=[]), qubits=(Qubit(QuantumRegister(2, 'q'), 1),), clbits=()), CircuitInstruction(operation=Instruction(name='cx', num_qubits=2, num_clbits=0, params=[]), qubits=(Qubit(QuantumRegister(2, 'q'), 0), Qubit(QuantumRegister(2, 'q'), 1)), clbits=()), CircuitInstruction(operation=Instruction(name='z', num_qubits=1, num_clbits=0, params=[]), qubits=(Qubit(QuantumRegister(2, 'q'), 0),), clbits=()), CircuitInstruction(operation=Instruction(name='x', num_qubits=1, num_clbits=0, params=[]), qubits=(Qubit(QuantumRegister(2, 'q'), 1),), clbits=()), CircuitInstruction(operation=Instruction(name='cx', num_qubits=2, num_clbits=0, params=[]), qubits=(Qubit(QuantumRegister(2, 'q'), 0), Qubit(QuantumRegister(2, 'q'), 1)), clbits=()), CircuitInstruction(operation=Instruction(name='x', num_qubits=1, num_clbits=0, params=[]), qubits=(Qubit(QuantumRegister(2, 'q'), 0),), clbits=()), CircuitInstruction(operation=Instruction(name='sxdg', num_qubits=1, num_clbits=0, params=[]), qubits=(Qubit(QuantumRegister(2, 'q'), 0),), clbits=()), CircuitInstruction(operation=Instruction(name='ry', num_qubits=1, num_clbits=0, params=[-1.5707963267948966]), qubits=(Qubit(QuantumRegister(2, 'q'), 0),), clbits=()), CircuitInstruction(operation=Instruction(name='y', num_qubits=1, num_clbits=0, params=[]), qubits=(Qubit(QuantumRegister(2, 'q'), 1),), clbits=()), CircuitInstruction(operation=Instruction(name='ry', num_qubits=1, num_clbits=0, params=[1.5707963267948966]), qubits=(Qubit(QuantumRegister(2, 'q'), 1),), clbits=()), CircuitInstruction(operation=Instruction(name='x', num_qubits=1, num_clbits=0, params=[]), qubits=(Qubit(QuantumRegister(2, 'q'), 1),), clbits=())]\n"
     ]
    }
   ],
   "source": [
    "print(circ.data)"
   ]
  },
  {
   "cell_type": "code",
   "execution_count": 6,
   "metadata": {},
   "outputs": [
    {
     "name": "stdout",
     "output_type": "stream",
     "text": [
      "1 and 2 qubit operator counts:  {1: 26, 2: 8}\n",
      "circuit depth:  21\n",
      "Individual operator counts:  {'x': 10, 'cx': 8, 'ry': 4, 'id': 4, 'y': 3, 'z': 3, 'sx': 1, 'sxdg': 1}\n",
      "Transpiled circuit depth:  22\n",
      "MeasurementResult: {'nqubits': 2, 'qubit_indices': (0, 1), 'shots': 10, 'counts': {'01': 10}} \n",
      "\n",
      "1 and 2 qubit operator counts:  {1: 48, 2: 20}\n",
      "circuit depth:  49\n",
      "Individual operator counts:  {'cx': 20, 'x': 16, 'z': 9, 'id': 8, 'y': 7, 'ry': 6, 'sx': 1, 'sxdg': 1}\n",
      "Transpiled circuit depth:  50\n",
      "MeasurementResult: {'nqubits': 2, 'qubit_indices': (0, 1), 'shots': 10, 'counts': {'01': 10}} \n",
      "\n",
      "1 and 2 qubit operator counts:  {1: 78, 2: 24}\n",
      "circuit depth:  63\n",
      "Individual operator counts:  {'x': 30, 'cx': 24, 'ry': 12, 'id': 12, 'y': 9, 'z': 9, 'sx': 3, 'sxdg': 3}\n",
      "Transpiled circuit depth:  64\n",
      "MeasurementResult: {'nqubits': 2, 'qubit_indices': (0, 1), 'shots': 10, 'counts': {'01': 10}} \n",
      "\n"
     ]
    }
   ],
   "source": [
    "zne_value = zne.execute_with_zne(circ, executor=execute)"
   ]
  },
  {
   "cell_type": "code",
   "execution_count": null,
   "metadata": {},
   "outputs": [],
   "source": []
  }
 ],
 "metadata": {
  "kernelspec": {
   "display_name": "Python 3",
   "language": "python",
   "name": "python3"
  },
  "language_info": {
   "codemirror_mode": {
    "name": "ipython",
    "version": 3
   },
   "file_extension": ".py",
   "mimetype": "text/x-python",
   "name": "python",
   "nbconvert_exporter": "python",
   "pygments_lexer": "ipython3",
   "version": "3.10.10"
  }
 },
 "nbformat": 4,
 "nbformat_minor": 2
}

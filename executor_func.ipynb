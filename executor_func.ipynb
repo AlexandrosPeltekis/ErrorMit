{
 "cells": [
  {
   "cell_type": "code",
   "execution_count": 100,
   "metadata": {},
   "outputs": [],
   "source": [
    "from mitiq import zne, benchmarks, MeasurementResult\n",
    "from qiskit import *\n",
    "import networkx as nx\n",
    "from qiskit_aer import *\n",
    "import matplotlib.pyplot as plt\n",
    "\n",
    "from collections import defaultdict\n",
    "from qiskit.circuit import Gate\n",
    "import numpy as np\n",
    "import tomlkit\n",
    "import toml\n",
    "import functools"
   ]
  },
  {
   "cell_type": "code",
   "execution_count": 146,
   "metadata": {},
   "outputs": [],
   "source": [
    "def execute(circuit, backend=AerSimulator(), shots=100,  expected_bitstring='default_bs', path_to_metadata='default_path'):\n",
    "   \n",
    "    qc = circuit.copy()\n",
    "\n",
    "    depth = qc.depth()\n",
    "    ops_dict = qc.count_ops()\n",
    "\n",
    "    qc.measure_all() ## ---> putting this here so now I believe circuit depth and transpiled circuit depth should always be the same unless we change the backend\n",
    "\n",
    "    gate_counts = {1: 0, 2: 0} ## do we need to do more than this? we could I guess, but gonna record 0 in metadata which is annoying\n",
    "\n",
    "    for inst in circuit.data:\n",
    "        if isinstance(inst.operation, Gate):\n",
    "            qubit_count = len(inst.qubits)\n",
    "            gate_counts[qubit_count] = gate_counts.get(qubit_count, 0) + 1\n",
    "    \n",
    "\n",
    "    transpiled_qc = transpile(qc, backend=backend, optimization_level=0)\n",
    "    transpiled_depth = transpiled_qc.depth()\n",
    "\n",
    "    result = backend.run(transpiled_qc, shots=shots, optimization_level=0).result()\n",
    "    msmt_counts = result.get_counts(qc)\n",
    "\n",
    "    inverse_bs = expected_bitstring[::-1]\n",
    "    final_bitstring = ''.join(str(x) for x in inverse_bs)\n",
    "\n",
    "    \n",
    "    if msmt_counts.get(final_bitstring) is None:\n",
    "        # print(msmt_counts)\n",
    "        expectation_value = 0.\n",
    "    else:\n",
    "        expectation_value = msmt_counts.get(final_bitstring) / 100\n",
    "\n",
    "    # circ_depths.append(depth)\n",
    "    # single_qubit_gates.append(gate_counts[1])\n",
    "    # two_qubit_gates.append(gate_counts[2])\n",
    "    # expectation_vals.append(expectation_value)\n",
    "\n",
    "\n",
    "\n",
    "        ###>------------------- Metadata part --------------------<###\n",
    "\n",
    "    with open(path_to_metadata, 'r') as f:\n",
    "        metadata = toml.load(f)\n",
    "\n",
    "    # get lastest Technique (error mitigation implementation)\n",
    "    tech = metadata['techniques'][-1]\n",
    "    tech = str(tech).translate({ord(i): None for i in '[]\\', '})\n",
    "    \n",
    "\n",
    "    # get current run count --> number of runs for current technique\n",
    "    run_count = str(metadata[tech][\"numRuns\"])\n",
    "\n",
    "    # # dictonary for the current circuit\n",
    "    metadata[tech][run_count] = tomlkit.table()\n",
    "\n",
    "    # dictonary for counts of 1 and 2 qubit gates\n",
    "    metadata[tech][run_count][\"1 and 2 qubit operator counts\"] = tomlkit.table()\n",
    "\n",
    "    # add current counts of 1 and 2 qubit gates\n",
    "    for k, v in gate_counts.items():\n",
    "        metadata[tech][run_count][\"1 and 2 qubit operator counts\"][str(k)  + \" qubit gate operator(s)\"] = int(v) \n",
    "\n",
    "    # add current circuit depth\n",
    "    metadata[tech][run_count]['circuit depth'] = int(depth)\n",
    "\n",
    "    # dictonary for the individual operator counts\n",
    "    metadata[tech][run_count]['Individual operator counts'] = tomlkit.table()\n",
    "\n",
    "    # add current individual operator counts\n",
    "    for k, v in ops_dict.items():\n",
    "        metadata[tech][run_count]['Individual operator counts'][str(k) + \" gates\"] = int(v) \n",
    "\n",
    "    # add current transpiled circuit depth\n",
    "    metadata[tech][run_count]['Transpiled circuit depth'] = int(transpiled_depth)\n",
    "\n",
    "    # dictonary for the Measurement Results\n",
    "    metadata[tech][run_count][\"Measurement Results\"] = tomlkit.table()\n",
    "\n",
    "    # add all current Measurement Results\n",
    "    for k, v in msmt_counts.items():\n",
    "        metadata[tech][run_count][\"Measurement Results\"][k.replace(\" \",\"\")] = int(v)+1-1 \n",
    "\n",
    "    # add calculated expectation value --> frequency of correct_bitstring msmt\n",
    "    metadata[tech][run_count]['Frequency of correct_bitstring Measurement'] = float(expectation_value)\n",
    "\n",
    "    # update run count for next circuit \n",
    "    metadata[tech][\"numRuns\"] = int(metadata[tech][\"numRuns\"]) + 1  \n",
    "\n",
    "    with open(path_to_metadata, 'w') as f:\n",
    "        toml.dump(metadata, f)\n",
    "\n",
    "        \n",
    "    return expectation_value"
   ]
  },
  {
   "cell_type": "code",
   "execution_count": 147,
   "metadata": {},
   "outputs": [],
   "source": [
    "def get_circ_bs_lists(max_qbits):\n",
    "    qbit_count_arr = np.arange(1,max_qbits+1,1)\n",
    "    c_list = []\n",
    "    b_list = []\n",
    "\n",
    "    for k in qbit_count_arr:\n",
    "        c, b = get_circuit_and_bs(100,k)\n",
    "        c_list.append(c)\n",
    "        b_list.append(b)\n",
    "\n",
    "    return c_list, b_list, qbit_count_arr"
   ]
  },
  {
   "cell_type": "code",
   "execution_count": 148,
   "metadata": {},
   "outputs": [],
   "source": [
    "def get_circuit_and_bs(layer_depth, n_qubits, seed=None):\n",
    "    circuit, correct_bitstring = benchmarks.generate_mirror_circuit(\n",
    "        nlayers=layer_depth,\n",
    "        two_qubit_gate_prob=1.0,\n",
    "        connectivity_graph=nx.complete_graph(n_qubits),\n",
    "        two_qubit_gate_name=\"CNOT\",\n",
    "        seed=seed,\n",
    "        return_type=\"qiskit\",\n",
    "    )        \n",
    "    return circuit, correct_bitstring "
   ]
  },
  {
   "cell_type": "code",
   "execution_count": 149,
   "metadata": {},
   "outputs": [],
   "source": [
    "def batch_execute(circ_list, bs_list, executor):\n",
    "    \n",
    "    exp_val_list = []\n",
    "    path_to_metadata='metadata.toml'\n",
    "            \n",
    "    for i,circ in enumerate(circ_list):\n",
    "        print(i)\n",
    "        if i == 0: # On first iteration\n",
    "            # Create toml file type\n",
    "            metadata = tomlkit.document()\n",
    "            #Add an array that has zne in it called techniques\n",
    "            metadata.add('techniques',[])\n",
    "            metadata['techniques'].append(\"cir_\" + str(i) + \"_zne\") \n",
    "            #Get the last technique in the techniques array\n",
    "            tech = str(metadata['techniques'][-1])\n",
    "            #Make a dictionary for cir_i_zne_\n",
    "            metadata[tech]= tomlkit.table()\n",
    "\n",
    "            # Add number of time run and make dictionary\n",
    "            metadata[tech][\"numRuns\"] = 0\n",
    "            metadata[tech][str(metadata[tech][\"numRuns\"])]= tomlkit.table()\n",
    "\n",
    "            #Write toml file as metadata.toml\n",
    "            with open(path_to_metadata, 'w') as f:\n",
    "                    toml.dump(metadata, f)\n",
    "        else:\n",
    "            with open(path_to_metadata, 'r') as f:\n",
    "                    metadata = toml.load(f)\n",
    "            #Add an array that has zne in it called techniques\n",
    "            metadata['techniques'].append([\"cir_\" + str(i) + \"_zne\"]) \n",
    "            #Get the last technique in the techniques array\n",
    "            tech = str(metadata['techniques'][-1])\n",
    "            tech = str(tech).translate({ord(i): None for i in '[]\\', '})\n",
    "\n",
    "            #Make a dictionary for cir_i_zne_\n",
    "            metadata[tech]= tomlkit.table()\n",
    "\n",
    "            # Add number of time run and make dictionary\n",
    "            metadata[tech][\"numRuns\"] = 0\n",
    "            metadata[tech][str(metadata[tech][\"numRuns\"])]= tomlkit.table()\n",
    "\n",
    "            #Write toml file as metadata.toml\n",
    "            with open(path_to_metadata, 'w') as f:\n",
    "                    toml.dump(metadata, f)\n",
    "\n",
    "        #run executor stuff\n",
    "        new_executor = functools.partial(executor, expected_bitstring=bs_list[i], path_to_metadata=path_to_metadata)\n",
    "        zne_value = zne.execute_with_zne(circ, executor=new_executor)\n",
    "        exp_val_list.append(zne_value)\n",
    "    \n",
    "    return exp_val_list"
   ]
  },
  {
   "cell_type": "code",
   "execution_count": 150,
   "metadata": {},
   "outputs": [
    {
     "name": "stdout",
     "output_type": "stream",
     "text": [
      "0\n",
      "1\n",
      "2\n",
      "3\n"
     ]
    },
    {
     "data": {
      "text/plain": [
       "[0.9999999999999982,\n",
       " 0.9999999999999982,\n",
       " 0.9999999999999982,\n",
       " 0.9999999999999982]"
      ]
     },
     "execution_count": 150,
     "metadata": {},
     "output_type": "execute_result"
    }
   ],
   "source": [
    "circs, bss, arr = get_circ_bs_lists(4)\n",
    "batch_execute(circs, bss, execute)"
   ]
  },
  {
   "cell_type": "code",
   "execution_count": 151,
   "metadata": {},
   "outputs": [
    {
     "name": "stdout",
     "output_type": "stream",
     "text": [
      "Doing cir_0_zne summing.........\n",
      "Doing cir_1_zne summing.........\n",
      "Doing cir_2_zne summing.........\n",
      "Doing cir_3_zne summing.........\n"
     ]
    },
    {
     "data": {
      "text/plain": [
       "{'circuit depth': [3869, 2545, 3214, 2593],\n",
       " 'Transpiled circuit depth': [3872, 2548, 3217, 2596],\n",
       " '1 qubit gates': [3869, 2446, 6095, 4920],\n",
       " '2 qubit gates': [0, 1214, 1208, 2400]}"
      ]
     },
     "execution_count": 151,
     "metadata": {},
     "output_type": "execute_result"
    }
   ],
   "source": [
    "with open('metadata.toml', 'r') as f:\n",
    "        metadata = toml.load(f)\n",
    "\n",
    "sums = {} \n",
    "tech = \"zne\"\n",
    "numOfCirc = len(metadata['techniques'])\n",
    "\n",
    "sums[\"circuit depth\"] = [0 for x in range(numOfCirc)]\n",
    "sums[\"Transpiled circuit depth\"] = [0 for x in range(numOfCirc)]\n",
    "sums[\"1 qubit gates\"] = [0 for x in range(numOfCirc)]\n",
    "sums[\"2 qubit gates\"] = [0 for x in range(numOfCirc)]\n",
    "\n",
    "        \n",
    "for k in range(numOfCirc):\n",
    "    print(\"Doing cir_\" + str(k) + \"_\"+ tech + \" summing.........\")\n",
    "    currentCirc = metadata[\"cir_\" + str(k) + \"_\"+ tech]\n",
    "    for i in range(currentCirc[\"numRuns\"]):\n",
    "        sums[\"circuit depth\"][k] += int(currentCirc[str(i)][\"circuit depth\"])\n",
    "        sums[\"Transpiled circuit depth\"][k] += int(currentCirc[str(i)][\"Transpiled circuit depth\"])\n",
    "        sums[\"1 qubit gates\"][k] += int(currentCirc[str(i)][\"1 and 2 qubit operator counts\"][\"1 qubit gate operator(s)\"])  \n",
    "        sums[\"2 qubit gates\"][k] += int(currentCirc[str(i)][\"1 and 2 qubit operator counts\"][\"2 qubit gate operator(s)\"]) \n",
    "\n",
    "sums"
   ]
  },
  {
   "cell_type": "code",
   "execution_count": 152,
   "metadata": {},
   "outputs": [
    {
     "data": {
      "text/plain": [
       "<matplotlib.legend.Legend at 0x20a61b67350>"
      ]
     },
     "execution_count": 152,
     "metadata": {},
     "output_type": "execute_result"
    },
    {
     "data": {
      "image/png": "[encoded data removed]",
      "text/plain": [
       "<Figure size 800x600 with 1 Axes>"
      ]
     },
     "metadata": {},
     "output_type": "display_data"
    }
   ],
   "source": [
    "fig, ax = plt.subplots(figsize=(8,6))\n",
    "\n",
    "c = ax.plot(arr, sums[\"circuit depth\"], '.-', color=\"mediumseagreen\", label='Depth')\n",
    "\n",
    "n = ax.plot(arr, sums[\"1 qubit gates\"], '.-', color=\"dodgerblue\", label='# Single Qubit Gates')\n",
    "\n",
    "t  = ax.plot(arr, sums[\"2 qubit gates\"], '.-', color=\"blue\", label='# Two Qubit Gates')\n",
    "\n",
    "ax.set_xlabel(r'$N_{qubits}$')\n",
    "ax.set_ylabel('Overhead')\n",
    "ax.set_title('ZNE Overhead vs. Qubit Number ')\n",
    "\n",
    "ax.legend(bbox_to_anchor=(0.4, 0.95))"
   ]
  },
  {
   "cell_type": "code",
   "execution_count": null,
   "metadata": {},
   "outputs": [],
   "source": []
  },
  {
   "cell_type": "code",
   "execution_count": null,
   "metadata": {},
   "outputs": [],
   "source": []
  }
 ],
 "metadata": {
  "kernelspec": {
   "display_name": "Python 3",
   "language": "python",
   "name": "python3"
  },
  "language_info": {
   "codemirror_mode": {
    "name": "ipython",
    "version": 3
   },
   "file_extension": ".py",
   "mimetype": "text/x-python",
   "name": "python",
   "nbconvert_exporter": "python",
   "pygments_lexer": "ipython3",
   "version": "3.11.7"
  }
 },
 "nbformat": 4,
 "nbformat_minor": 2
}
